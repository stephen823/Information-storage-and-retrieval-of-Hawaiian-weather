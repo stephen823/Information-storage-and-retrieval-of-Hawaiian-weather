{
 "cells": [
  {
   "cell_type": "code",
   "execution_count": 3,
   "metadata": {},
   "outputs": [],
   "source": [
    "from matplotlib import style\n",
    "style.use('fivethirtyeight')\n",
    "import matplotlib.pyplot as plt"
   ]
  },
  {
   "cell_type": "code",
   "execution_count": 4,
   "metadata": {},
   "outputs": [],
   "source": [
    "import numpy as np\n",
    "import pandas as pd"
   ]
  },
  {
   "cell_type": "code",
   "execution_count": 5,
   "metadata": {},
   "outputs": [],
   "source": [
    "import datetime as dt"
   ]
  },
  {
   "cell_type": "markdown",
   "metadata": {},
   "source": [
    "# Reflect Tables into SQLAlchemy ORM"
   ]
  },
  {
   "cell_type": "code",
   "execution_count": 6,
   "metadata": {},
   "outputs": [],
   "source": [
    "# Python SQL toolkit and Object Relational Mapper\n",
    "import sqlalchemy\n",
    "from sqlalchemy.ext.automap import automap_base\n",
    "from sqlalchemy.orm import Session\n",
    "from sqlalchemy import create_engine, func"
   ]
  },
  {
   "cell_type": "code",
   "execution_count": 7,
   "metadata": {},
   "outputs": [],
   "source": [
    "engine = create_engine(\"sqlite:///hawaii.sqlite\")"
   ]
  },
  {
   "cell_type": "code",
   "execution_count": 8,
   "metadata": {},
   "outputs": [],
   "source": [
    "# reflect an existing database into a new model\n",
    "Base = automap_base()\n",
    "\n",
    "# reflect the tables\n",
    "Base.prepare(engine, reflect=True)"
   ]
  },
  {
   "cell_type": "code",
   "execution_count": 9,
   "metadata": {},
   "outputs": [
    {
     "data": {
      "text/plain": [
       "['measurement', 'station']"
      ]
     },
     "execution_count": 9,
     "metadata": {},
     "output_type": "execute_result"
    }
   ],
   "source": [
    "# We can view all of the classes that automap found\n",
    "Base.classes.keys()"
   ]
  },
  {
   "cell_type": "code",
   "execution_count": 10,
   "metadata": {},
   "outputs": [],
   "source": [
    "# Save references to each table\n",
    "Measurement=Base.classes.measurement\n",
    "Station=Base.classes.station"
   ]
  },
  {
   "cell_type": "code",
   "execution_count": 11,
   "metadata": {},
   "outputs": [],
   "source": [
    "# Create our session (link) from Python to the DB\n",
    "session = Session(engine)"
   ]
  },
  {
   "cell_type": "markdown",
   "metadata": {},
   "source": [
    "# Exploratory Climate Analysis"
   ]
  },
  {
   "cell_type": "code",
   "execution_count": 12,
   "metadata": {},
   "outputs": [
    {
     "name": "stdout",
     "output_type": "stream",
     "text": [
      "('2017-08-23',)\n",
      "2016-08-23 00:00:00\n"
     ]
    }
   ],
   "source": [
    "# Design a query to retrieve the last 12 months of precipitation data and plot the results\n",
    "# Calculate the date 1 year ago from the last data point in the database\n",
    "last_date=session.query(Measurement.date).order_by(Measurement.date.desc()).first()\n",
    "print(last_date)\n",
    "a_year_ago=pd.to_datetime(last_date[0])-dt.timedelta(days=365)\n",
    "print(a_year_ago)\n"
   ]
  },
  {
   "cell_type": "code",
   "execution_count": 19,
   "metadata": {},
   "outputs": [
    {
     "name": "stdout",
     "output_type": "stream",
     "text": [
      "           date  precipitation\n",
      "0    2016-08-23       0.451667\n",
      "1    2016-08-24       1.555000\n",
      "2    2016-08-25       0.077143\n",
      "3    2016-08-26       0.016667\n",
      "4    2016-08-27       0.064000\n",
      "..          ...            ...\n",
      "361  2017-08-19       0.030000\n",
      "362  2017-08-20       0.005000\n",
      "363  2017-08-21       0.193333\n",
      "364  2017-08-22       0.166667\n",
      "365  2017-08-23       0.132500\n",
      "\n",
      "[366 rows x 2 columns]\n",
      "           date  precipitation\n",
      "0    2016-08-23       0.451667\n",
      "1    2016-08-24       1.555000\n",
      "2    2016-08-25       0.077143\n",
      "3    2016-08-26       0.016667\n",
      "4    2016-08-27       0.064000\n",
      "..          ...            ...\n",
      "361  2017-08-19       0.030000\n",
      "362  2017-08-20       0.005000\n",
      "363  2017-08-21       0.193333\n",
      "364  2017-08-22       0.166667\n",
      "365  2017-08-23       0.132500\n",
      "\n",
      "[366 rows x 2 columns]\n"
     ]
    }
   ],
   "source": [
    "#Perform a query to retrieve the data and precipitation scores\n",
    "last_twelve=session.query(Measurement.date,func.avg(Measurement.prcp)).\\\n",
    "filter(Measurement.date>='2016-08-23').\\\n",
    "group_by(Measurement.date).\\\n",
    "order_by(Measurement.date).all()\n",
    "last_twelve\n",
    "#Save the query results as a Pandas DataFrame and set the index to the date column\n",
    "last_twleve_df=pd.DataFrame(last_twelve,columns=[\"date\", \"precipitation\"])\n",
    "print(last_twleve_df)\n",
    "lt_dt_sort=last_twleve_df.sort_values(by=['date'])\n",
    "lt_dt_sort.head(7)\n",
    "lt_dt_sort1=lt_dt_sort.dropna()\n",
    "lt_dt_sort1.head(15)\n",
    "lt_dt_sort11=lt_dt_sort1\n",
    "print(lt_dt_sort1)\n",
    "lt_dt_sort11.set_index('date',inplace=True)"
   ]
  },
  {
   "cell_type": "code",
   "execution_count": 20,
   "metadata": {},
   "outputs": [
    {
     "name": "stdout",
     "output_type": "stream",
     "text": [
      "            precipitation\n",
      "date                     \n",
      "2016-08-23       0.451667\n",
      "2016-08-24       1.555000\n",
      "2016-08-25       0.077143\n",
      "2016-08-26       0.016667\n",
      "2016-08-27       0.064000\n",
      "...                   ...\n",
      "2017-08-19       0.030000\n",
      "2017-08-20       0.005000\n",
      "2017-08-21       0.193333\n",
      "2017-08-22       0.166667\n",
      "2017-08-23       0.132500\n",
      "\n",
      "[366 rows x 1 columns]\n"
     ]
    },
    {
     "data": {
      "text/plain": [
       "(736188.0, 736566.0)"
      ]
     },
     "execution_count": 20,
     "metadata": {},
     "output_type": "execute_result"
    },
    {
     "data": {
      "image/png": "[encoded data removed]",
      "text/plain": [
       "<Figure size 1080x504 with 1 Axes>"
      ]
     },
     "metadata": {
      "needs_background": "light"
     },
     "output_type": "display_data"
    }
   ],
   "source": [
    "# Import mdates to only show certain date on x axis\n",
    "import matplotlib.dates as mdates\n",
    "\n",
    "#Convert index to date time form\n",
    "lt_dt_sort11.index=pd.to_datetime(lt_dt_sort11.index)\n",
    "print(lt_dt_sort11)\n",
    "\n",
    "# Use Pandas Plotting with Matplotlib to plot the data\n",
    "fig, ax = plt.subplots(figsize=(15,7))\n",
    "ax.grid(zorder=0)\n",
    "ax.bar(lt_dt_sort11.index, lt_dt_sort11['precipitation'])\n",
    "ax.xaxis.set_major_locator(mdates.DayLocator(interval=39))\n",
    "ax.xaxis.set_major_formatter(mdates.DateFormatter('%Y-%m-%d'))\n",
    "ax.set_xlim(pd.Timestamp('2016-08-12'), pd.Timestamp('2017-08-25'))"
   ]
  },
  {
   "cell_type": "code",
   "execution_count": 21,
   "metadata": {},
   "outputs": [
    {
     "data": {
      "text/html": [
       "<div>\n",
       "<style scoped>\n",
       "    .dataframe tbody tr th:only-of-type {\n",
       "        vertical-align: middle;\n",
       "    }\n",
       "\n",
       "    .dataframe tbody tr th {\n",
       "        vertical-align: top;\n",
       "    }\n",
       "\n",
       "    .dataframe thead th {\n",
       "        text-align: right;\n",
       "    }\n",
       "</style>\n",
       "<table border=\"1\" class=\"dataframe\">\n",
       "  <thead>\n",
       "    <tr style=\"text-align: right;\">\n",
       "      <th></th>\n",
       "      <th>precipitation</th>\n",
       "    </tr>\n",
       "  </thead>\n",
       "  <tbody>\n",
       "    <tr>\n",
       "      <th>count</th>\n",
       "      <td>366.000000</td>\n",
       "    </tr>\n",
       "    <tr>\n",
       "      <th>mean</th>\n",
       "      <td>0.170757</td>\n",
       "    </tr>\n",
       "    <tr>\n",
       "      <th>std</th>\n",
       "      <td>0.295683</td>\n",
       "    </tr>\n",
       "    <tr>\n",
       "      <th>min</th>\n",
       "      <td>0.000000</td>\n",
       "    </tr>\n",
       "    <tr>\n",
       "      <th>25%</th>\n",
       "      <td>0.008571</td>\n",
       "    </tr>\n",
       "    <tr>\n",
       "      <th>50%</th>\n",
       "      <td>0.070000</td>\n",
       "    </tr>\n",
       "    <tr>\n",
       "      <th>75%</th>\n",
       "      <td>0.191667</td>\n",
       "    </tr>\n",
       "    <tr>\n",
       "      <th>max</th>\n",
       "      <td>2.380000</td>\n",
       "    </tr>\n",
       "  </tbody>\n",
       "</table>\n",
       "</div>"
      ],
      "text/plain": [
       "       precipitation\n",
       "count     366.000000\n",
       "mean        0.170757\n",
       "std         0.295683\n",
       "min         0.000000\n",
       "25%         0.008571\n",
       "50%         0.070000\n",
       "75%         0.191667\n",
       "max         2.380000"
      ]
     },
     "execution_count": 21,
     "metadata": {},
     "output_type": "execute_result"
    }
   ],
   "source": [
    "# Use Pandas to calcualte the summary statistics for the precipitation data\n",
    "lt_dt_sort1.describe()"
   ]
  },
  {
   "cell_type": "code",
   "execution_count": 22,
   "metadata": {},
   "outputs": [
    {
     "name": "stdout",
     "output_type": "stream",
     "text": [
      "9\n"
     ]
    }
   ],
   "source": [
    "# Design a query to show how many stations are available in this dataset?\n",
    "print(session.query(func.count(Station.name)).all()[0][0]) "
   ]
  },
  {
   "cell_type": "code",
   "execution_count": 23,
   "metadata": {},
   "outputs": [
    {
     "name": "stdout",
     "output_type": "stream",
     "text": [
      "       Station  Observation_counts\n",
      "0  USC00519281                2772\n",
      "1  USC00519397                2724\n",
      "2  USC00513117                2709\n",
      "3  USC00519523                2669\n",
      "4  USC00516128                2612\n",
      "5  USC00514830                2202\n",
      "6  USC00511918                1979\n",
      "7  USC00517948                1372\n",
      "8  USC00518838                 511\n",
      "USC00519281\n"
     ]
    }
   ],
   "source": [
    "# List the stations and the counts in descending order.\n",
    "observation_counts=session.query(Measurement.station,func.count(Measurement.id)).\\\n",
    "group_by(Measurement.station).\\\n",
    "order_by(func.count(Measurement.id).desc()).all()\n",
    "\n",
    "# Covert result to DataFrame for better appearence\n",
    "station_count_df= pd.DataFrame(observation_counts, columns=['Station', 'Observation_counts'])\n",
    "print(station_count_df)\n",
    "\n",
    "# What are the most active stations? (i.e. what stations have the most rows)?\n",
    "Most_Active_Station=observation_counts[0][0]\n",
    "print(Most_Active_Station)"
   ]
  },
  {
   "cell_type": "code",
   "execution_count": 24,
   "metadata": {},
   "outputs": [
    {
     "data": {
      "text/html": [
       "<div>\n",
       "<style scoped>\n",
       "    .dataframe tbody tr th:only-of-type {\n",
       "        vertical-align: middle;\n",
       "    }\n",
       "\n",
       "    .dataframe tbody tr th {\n",
       "        vertical-align: top;\n",
       "    }\n",
       "\n",
       "    .dataframe thead th {\n",
       "        text-align: right;\n",
       "    }\n",
       "</style>\n",
       "<table border=\"1\" class=\"dataframe\">\n",
       "  <thead>\n",
       "    <tr style=\"text-align: right;\">\n",
       "      <th></th>\n",
       "      <th>Station</th>\n",
       "      <th>Minimum Temperature</th>\n",
       "      <th>Maximum Temperature</th>\n",
       "      <th>Average Temperature</th>\n",
       "    </tr>\n",
       "  </thead>\n",
       "  <tbody>\n",
       "    <tr>\n",
       "      <th>0</th>\n",
       "      <td>USC00519281</td>\n",
       "      <td>85.0</td>\n",
       "      <td>54.0</td>\n",
       "      <td>71.663781</td>\n",
       "    </tr>\n",
       "    <tr>\n",
       "      <th>1</th>\n",
       "      <td>USC00519397</td>\n",
       "      <td>87.0</td>\n",
       "      <td>56.0</td>\n",
       "      <td>74.553231</td>\n",
       "    </tr>\n",
       "    <tr>\n",
       "      <th>2</th>\n",
       "      <td>USC00513117</td>\n",
       "      <td>85.0</td>\n",
       "      <td>59.0</td>\n",
       "      <td>72.689184</td>\n",
       "    </tr>\n",
       "    <tr>\n",
       "      <th>3</th>\n",
       "      <td>USC00519523</td>\n",
       "      <td>85.0</td>\n",
       "      <td>56.0</td>\n",
       "      <td>74.543649</td>\n",
       "    </tr>\n",
       "    <tr>\n",
       "      <th>4</th>\n",
       "      <td>USC00516128</td>\n",
       "      <td>84.0</td>\n",
       "      <td>58.0</td>\n",
       "      <td>70.915008</td>\n",
       "    </tr>\n",
       "    <tr>\n",
       "      <th>5</th>\n",
       "      <td>USC00514830</td>\n",
       "      <td>85.0</td>\n",
       "      <td>58.0</td>\n",
       "      <td>74.873297</td>\n",
       "    </tr>\n",
       "    <tr>\n",
       "      <th>6</th>\n",
       "      <td>USC00511918</td>\n",
       "      <td>87.0</td>\n",
       "      <td>53.0</td>\n",
       "      <td>71.615968</td>\n",
       "    </tr>\n",
       "    <tr>\n",
       "      <th>7</th>\n",
       "      <td>USC00517948</td>\n",
       "      <td>87.0</td>\n",
       "      <td>58.0</td>\n",
       "      <td>74.684402</td>\n",
       "    </tr>\n",
       "    <tr>\n",
       "      <th>8</th>\n",
       "      <td>USC00518838</td>\n",
       "      <td>83.0</td>\n",
       "      <td>58.0</td>\n",
       "      <td>72.724070</td>\n",
       "    </tr>\n",
       "  </tbody>\n",
       "</table>\n",
       "</div>"
      ],
      "text/plain": [
       "       Station  Minimum Temperature  Maximum Temperature  Average Temperature\n",
       "0  USC00519281                 85.0                 54.0            71.663781\n",
       "1  USC00519397                 87.0                 56.0            74.553231\n",
       "2  USC00513117                 85.0                 59.0            72.689184\n",
       "3  USC00519523                 85.0                 56.0            74.543649\n",
       "4  USC00516128                 84.0                 58.0            70.915008\n",
       "5  USC00514830                 85.0                 58.0            74.873297\n",
       "6  USC00511918                 87.0                 53.0            71.615968\n",
       "7  USC00517948                 87.0                 58.0            74.684402\n",
       "8  USC00518838                 83.0                 58.0            72.724070"
      ]
     },
     "execution_count": 24,
     "metadata": {},
     "output_type": "execute_result"
    }
   ],
   "source": [
    "# Using the station id from the previous query, calculate the lowest temperature recorded, \n",
    "# highest temperature recorded, and average temperature of the most active station?\n",
    "station_record=session.query(Measurement.station,func.max(Measurement.tobs),func.min(Measurement.tobs),func.avg(Measurement.tobs)).\\\n",
    "group_by(Measurement.station).\\\n",
    "order_by(func.count(Measurement.id).desc()).all()\n",
    "station_record\n",
    "station_record_df= pd.DataFrame(station_record, columns=['Station', 'Minimum Temperature','Maximum Temperature','Average Temperature'])\n",
    "station_record_df"
   ]
  },
  {
   "cell_type": "code",
   "execution_count": 26,
   "metadata": {},
   "outputs": [
    {
     "name": "stdout",
     "output_type": "stream",
     "text": [
      "USC00519281\n"
     ]
    },
    {
     "data": {
      "text/plain": [
       "Text(0.5, 1.0, ' Historgram of Temperature')"
      ]
     },
     "execution_count": 26,
     "metadata": {},
     "output_type": "execute_result"
    },
    {
     "data": {
      "image/png": "[encoded data removed]",
      "text/plain": [
       "<Figure size 432x288 with 1 Axes>"
      ]
     },
     "metadata": {
      "needs_background": "light"
     },
     "output_type": "display_data"
    }
   ],
   "source": [
    "# Choose the station with the highest number of temperature observations.\n",
    "Station_list=session.query(Measurement.station).group_by(Measurement.station).order_by(func.count(Measurement.station).desc()).all()\n",
    "MA_station=Station_list[0][0]\n",
    "print(MA_station)\n",
    "\n",
    "# Query the last 12 months of temperature observation data for this station\n",
    "MA_station_data=session.query(Measurement.date,Measurement.tobs).\\\n",
    "filter(Measurement.date>='2016-08-23').\\\n",
    "filter(Measurement.station==MA_station).all()\n",
    "\n",
    "#Convert query result into DataFrame\n",
    "MA_station_df= pd.DataFrame(MA_station_data, columns=['Date', 'Temperature'])\n",
    "MA_station_df.head()\n",
    "\n",
    "#plot the results as a histogram\n",
    "plt.hist(MA_station_df.Temperature,bins=12)\n",
    "plt.xlabel(\"Temperature\")\n",
    "plt.ylabel(\"Frequency\")\n",
    "plt.title(\" Historgram of Temperature\")\n",
    "\n"
   ]
  },
  {
   "cell_type": "markdown",
   "metadata": {},
   "source": [
    "## Bonus Challenge Assignment"
   ]
  },
  {
   "cell_type": "code",
   "execution_count": 56,
   "metadata": {},
   "outputs": [
    {
     "name": "stdout",
     "output_type": "stream",
     "text": [
      "[(62.0, 69.57142857142857, 74.0)]\n"
     ]
    }
   ],
   "source": [
    "# This function called `calc_temps` will accept start date and end date in the format '%Y-%m-%d' \n",
    "# and return the minimum, average, and maximum temperatures for that range of dates\n",
    "def calc_temps(start_date, end_date):\n",
    "    \"\"\"TMIN, TAVG, and TMAX for a list of dates.\n",
    "    \n",
    "    Args:\n",
    "        start_date (string): A date string in the format %Y-%m-%d\n",
    "        end_date (string): A date string in the format %Y-%m-%d\n",
    "        \n",
    "    Returns:\n",
    "        TMIN, TAVE, and TMAX\n",
    "    \"\"\"\n",
    "    \n",
    "    return session.query(func.min(Measurement.tobs), func.avg(Measurement.tobs), func.max(Measurement.tobs)).\\\n",
    "        filter(Measurement.date >= start_date).filter(Measurement.date <= end_date).all()\n",
    "\n",
    "# function usage example\n",
    "print(calc_temps('2012-02-28', '2012-03-05'))"
   ]
  },
  {
   "cell_type": "code",
   "execution_count": 33,
   "metadata": {},
   "outputs": [
    {
     "name": "stdout",
     "output_type": "stream",
     "text": [
      "[(65.0, 73.2871287128713, 79.0)]\n"
     ]
    },
    {
     "data": {
      "text/plain": [
       "73.2871287128713"
      ]
     },
     "execution_count": 33,
     "metadata": {},
     "output_type": "execute_result"
    }
   ],
   "source": [
    "# Use your previous function `calc_temps` to calculate the tmin, tavg, and tmax \n",
    "# for your trip using the previous year's data for those same dates.\n",
    "temp=calc_temps('2016-05-01', '2016-05-16')\n",
    "print(temp)"
   ]
  },
  {
   "cell_type": "code",
   "execution_count": 48,
   "metadata": {},
   "outputs": [
    {
     "data": {
      "image/png": "[encoded data removed]",
      "text/plain": [
       "<Figure size 432x288 with 1 Axes>"
      ]
     },
     "metadata": {
      "needs_background": "light"
     },
     "output_type": "display_data"
    }
   ],
   "source": [
    "# Plot the results from your previous query as a bar chart. \n",
    "# Use \"Trip Avg Temp\" as your Title\n",
    "# Use the average temperature for the y value\n",
    "# Use the peak-to-peak (tmax-tmin) value as the y error bar (yerr)\n",
    "plt.bar([1,], [temp[0][1],],width = 0.05, alpha=0.5)\n",
    "x = [1,]\n",
    "y = [temp[0][1], ]\n",
    "e = temp[0][2]-temp[0][0]\n",
    "plt.errorbar(x, y, yerr=e, fmt='o')\n",
    "plt.show()"
   ]
  },
  {
   "cell_type": "code",
   "execution_count": 61,
   "metadata": {},
   "outputs": [
    {
     "data": {
      "text/html": [
       "<div>\n",
       "<style scoped>\n",
       "    .dataframe tbody tr th:only-of-type {\n",
       "        vertical-align: middle;\n",
       "    }\n",
       "\n",
       "    .dataframe tbody tr th {\n",
       "        vertical-align: top;\n",
       "    }\n",
       "\n",
       "    .dataframe thead th {\n",
       "        text-align: right;\n",
       "    }\n",
       "</style>\n",
       "<table border=\"1\" class=\"dataframe\">\n",
       "  <thead>\n",
       "    <tr style=\"text-align: right;\">\n",
       "      <th></th>\n",
       "      <th>Station</th>\n",
       "      <th>Totoal Precipitation</th>\n",
       "    </tr>\n",
       "  </thead>\n",
       "  <tbody>\n",
       "    <tr>\n",
       "      <th>0</th>\n",
       "      <td>USC00516128</td>\n",
       "      <td>4.32</td>\n",
       "    </tr>\n",
       "    <tr>\n",
       "      <th>1</th>\n",
       "      <td>USC00519281</td>\n",
       "      <td>3.90</td>\n",
       "    </tr>\n",
       "    <tr>\n",
       "      <th>2</th>\n",
       "      <td>USC00513117</td>\n",
       "      <td>3.80</td>\n",
       "    </tr>\n",
       "    <tr>\n",
       "      <th>3</th>\n",
       "      <td>USC00519523</td>\n",
       "      <td>3.06</td>\n",
       "    </tr>\n",
       "    <tr>\n",
       "      <th>4</th>\n",
       "      <td>USC00514830</td>\n",
       "      <td>1.07</td>\n",
       "    </tr>\n",
       "    <tr>\n",
       "      <th>5</th>\n",
       "      <td>USC00517948</td>\n",
       "      <td>0.44</td>\n",
       "    </tr>\n",
       "    <tr>\n",
       "      <th>6</th>\n",
       "      <td>USC00519397</td>\n",
       "      <td>0.19</td>\n",
       "    </tr>\n",
       "  </tbody>\n",
       "</table>\n",
       "</div>"
      ],
      "text/plain": [
       "       Station  Totoal Precipitation\n",
       "0  USC00516128                  4.32\n",
       "1  USC00519281                  3.90\n",
       "2  USC00513117                  3.80\n",
       "3  USC00519523                  3.06\n",
       "4  USC00514830                  1.07\n",
       "5  USC00517948                  0.44\n",
       "6  USC00519397                  0.19"
      ]
     },
     "execution_count": 61,
     "metadata": {},
     "output_type": "execute_result"
    }
   ],
   "source": [
    "# Calculate the total amount of rainfall per weather station for your trip dates using the previous year's matching dates.\n",
    "# Sort this in descending order by precipitation amount and list the station, name, latitude, longitude, and elevation\n",
    "#Define function\n",
    "def prcp_temps(start_date, end_date):\n",
    "    return session.query(Measurement.station, func.sum(Measurement.prcp)).\\\n",
    "    filter(Measurement.date >= start_date).filter(Measurement.date <= end_date).\\\n",
    "    group_by(Measurement.station).order_by(func.sum(Measurement.prcp).desc()).all()\n",
    "    \n",
    "total_prcp=prcp_temps('2016-05-01', '2016-05-16')\n",
    "pd.DataFrame(total_prcp,columns=['Station', 'Totoal Precipitation'])"
   ]
  },
  {
   "cell_type": "code",
   "execution_count": 62,
   "metadata": {},
   "outputs": [
    {
     "data": {
      "text/plain": [
       "[(62.0, 69.15384615384616, 77.0)]"
      ]
     },
     "execution_count": 62,
     "metadata": {},
     "output_type": "execute_result"
    }
   ],
   "source": [
    "# Create a query that will calculate the daily normals \n",
    "# (i.e. the averages for tmin, tmax, and tavg for all historic data matching a specific month and day)\n",
    "\n",
    "def daily_normals(date):\n",
    "    \"\"\"Daily Normals.\n",
    "    \n",
    "    Args:\n",
    "        date (str): A date string in the format '%m-%d'\n",
    "        \n",
    "    Returns:\n",
    "        A list of tuples containing the daily normals, tmin, tavg, and tmax\n",
    "    \n",
    "    \"\"\"\n",
    "    \n",
    "    sel = [func.min(Measurement.tobs), func.avg(Measurement.tobs), func.max(Measurement.tobs)]\n",
    "    return session.query(*sel).filter(func.strftime(\"%m-%d\", Measurement.date) == date).all()\n",
    "    \n",
    "daily_normals(\"01-01\")"
   ]
  },
  {
   "cell_type": "code",
   "execution_count": 139,
   "metadata": {},
   "outputs": [
    {
     "name": "stdout",
     "output_type": "stream",
     "text": [
      "['05-01', '05-02', '05-03', '05-04', '05-05', '05-06', '05-07', '05-08', '05-09', '05-10', '05-11', '05-12', '05-13', '05-14', '05-15', '05-16']\n"
     ]
    },
    {
     "data": {
      "text/plain": [
       "[[65.0, 72.75925925925925, 79.0, '05-01'],\n",
       " [65.0, 73.05084745762711, 79.0, '05-02'],\n",
       " [67.0, 73.41071428571429, 84.0, '05-03'],\n",
       " [65.0, 73.59649122807018, 78.0, '05-04'],\n",
       " [67.0, 73.39655172413794, 79.0, '05-05'],\n",
       " [66.0, 73.14035087719299, 80.0, '05-06'],\n",
       " [64.0, 71.78846153846153, 79.0, '05-07'],\n",
       " [65.0, 72.18867924528301, 80.0, '05-08'],\n",
       " [67.0, 72.9322033898305, 79.0, '05-09'],\n",
       " [64.0, 73.3157894736842, 78.0, '05-10'],\n",
       " [65.0, 73.61111111111111, 79.0, '05-11'],\n",
       " [65.0, 73.13793103448276, 79.0, '05-12'],\n",
       " [67.0, 73.14285714285714, 79.0, '05-13'],\n",
       " [63.0, 73.89285714285714, 80.0, '05-14'],\n",
       " [63.0, 73.69090909090909, 79.0, '05-15'],\n",
       " [68.0, 74.37931034482759, 80.0, '05-16']]"
      ]
     },
     "execution_count": 139,
     "metadata": {},
     "output_type": "execute_result"
    }
   ],
   "source": [
    "# calculate the daily normals for your trip      \n",
    "# push each tuple of calculations into a list called `normals`\n",
    "# Set the start and end date of the trip\n",
    "start_date = date(2016, 5, 1)\n",
    "end_date = date(2016, 5, 16)\n",
    "\n",
    "# Use the start and end date to create a range of dates\n",
    "# Stip off the year and save a list of %m-%d strings\n",
    "day_list=[]\n",
    "day = date(2016, 5, 1)\n",
    "time_change = timedelta(days=1)\n",
    "while day <= end_date:\n",
    "    day_list.append(day.strftime(\"%m-%d\"))\n",
    "    day += time_change\n",
    "    \n",
    "print(day_list)\n",
    "\n",
    "# Loop through the list of %m-%d strings and calculate the normals for each date\n",
    "normals=[]\n",
    "for i in range(len(day_list)):\n",
    "    normals.append([j for j in daily_normals(day_list[i])[0]])\n",
    "    normals[i].append(day_list[i])\n",
    "normals   "
   ]
  },
  {
   "cell_type": "code",
   "execution_count": 143,
   "metadata": {},
   "outputs": [
    {
     "data": {
      "text/html": [
       "<div>\n",
       "<style scoped>\n",
       "    .dataframe tbody tr th:only-of-type {\n",
       "        vertical-align: middle;\n",
       "    }\n",
       "\n",
       "    .dataframe tbody tr th {\n",
       "        vertical-align: top;\n",
       "    }\n",
       "\n",
       "    .dataframe thead th {\n",
       "        text-align: right;\n",
       "    }\n",
       "</style>\n",
       "<table border=\"1\" class=\"dataframe\">\n",
       "  <thead>\n",
       "    <tr style=\"text-align: right;\">\n",
       "      <th></th>\n",
       "      <th>date</th>\n",
       "      <th>tmin</th>\n",
       "      <th>tmax</th>\n",
       "      <th>tavg</th>\n",
       "    </tr>\n",
       "  </thead>\n",
       "  <tbody>\n",
       "    <tr>\n",
       "      <th>0</th>\n",
       "      <td>05-01</td>\n",
       "      <td>65.0</td>\n",
       "      <td>72.759259</td>\n",
       "      <td>79.0</td>\n",
       "    </tr>\n",
       "    <tr>\n",
       "      <th>1</th>\n",
       "      <td>05-02</td>\n",
       "      <td>65.0</td>\n",
       "      <td>73.050847</td>\n",
       "      <td>79.0</td>\n",
       "    </tr>\n",
       "    <tr>\n",
       "      <th>2</th>\n",
       "      <td>05-03</td>\n",
       "      <td>67.0</td>\n",
       "      <td>73.410714</td>\n",
       "      <td>84.0</td>\n",
       "    </tr>\n",
       "    <tr>\n",
       "      <th>3</th>\n",
       "      <td>05-04</td>\n",
       "      <td>65.0</td>\n",
       "      <td>73.596491</td>\n",
       "      <td>78.0</td>\n",
       "    </tr>\n",
       "    <tr>\n",
       "      <th>4</th>\n",
       "      <td>05-05</td>\n",
       "      <td>67.0</td>\n",
       "      <td>73.396552</td>\n",
       "      <td>79.0</td>\n",
       "    </tr>\n",
       "    <tr>\n",
       "      <th>5</th>\n",
       "      <td>05-06</td>\n",
       "      <td>66.0</td>\n",
       "      <td>73.140351</td>\n",
       "      <td>80.0</td>\n",
       "    </tr>\n",
       "    <tr>\n",
       "      <th>6</th>\n",
       "      <td>05-07</td>\n",
       "      <td>64.0</td>\n",
       "      <td>71.788462</td>\n",
       "      <td>79.0</td>\n",
       "    </tr>\n",
       "    <tr>\n",
       "      <th>7</th>\n",
       "      <td>05-08</td>\n",
       "      <td>65.0</td>\n",
       "      <td>72.188679</td>\n",
       "      <td>80.0</td>\n",
       "    </tr>\n",
       "    <tr>\n",
       "      <th>8</th>\n",
       "      <td>05-09</td>\n",
       "      <td>67.0</td>\n",
       "      <td>72.932203</td>\n",
       "      <td>79.0</td>\n",
       "    </tr>\n",
       "    <tr>\n",
       "      <th>9</th>\n",
       "      <td>05-10</td>\n",
       "      <td>64.0</td>\n",
       "      <td>73.315789</td>\n",
       "      <td>78.0</td>\n",
       "    </tr>\n",
       "    <tr>\n",
       "      <th>10</th>\n",
       "      <td>05-11</td>\n",
       "      <td>65.0</td>\n",
       "      <td>73.611111</td>\n",
       "      <td>79.0</td>\n",
       "    </tr>\n",
       "    <tr>\n",
       "      <th>11</th>\n",
       "      <td>05-12</td>\n",
       "      <td>65.0</td>\n",
       "      <td>73.137931</td>\n",
       "      <td>79.0</td>\n",
       "    </tr>\n",
       "    <tr>\n",
       "      <th>12</th>\n",
       "      <td>05-13</td>\n",
       "      <td>67.0</td>\n",
       "      <td>73.142857</td>\n",
       "      <td>79.0</td>\n",
       "    </tr>\n",
       "    <tr>\n",
       "      <th>13</th>\n",
       "      <td>05-14</td>\n",
       "      <td>63.0</td>\n",
       "      <td>73.892857</td>\n",
       "      <td>80.0</td>\n",
       "    </tr>\n",
       "    <tr>\n",
       "      <th>14</th>\n",
       "      <td>05-15</td>\n",
       "      <td>63.0</td>\n",
       "      <td>73.690909</td>\n",
       "      <td>79.0</td>\n",
       "    </tr>\n",
       "    <tr>\n",
       "      <th>15</th>\n",
       "      <td>05-16</td>\n",
       "      <td>68.0</td>\n",
       "      <td>74.379310</td>\n",
       "      <td>80.0</td>\n",
       "    </tr>\n",
       "  </tbody>\n",
       "</table>\n",
       "</div>"
      ],
      "text/plain": [
       "     date  tmin       tmax  tavg\n",
       "0   05-01  65.0  72.759259  79.0\n",
       "1   05-02  65.0  73.050847  79.0\n",
       "2   05-03  67.0  73.410714  84.0\n",
       "3   05-04  65.0  73.596491  78.0\n",
       "4   05-05  67.0  73.396552  79.0\n",
       "5   05-06  66.0  73.140351  80.0\n",
       "6   05-07  64.0  71.788462  79.0\n",
       "7   05-08  65.0  72.188679  80.0\n",
       "8   05-09  67.0  72.932203  79.0\n",
       "9   05-10  64.0  73.315789  78.0\n",
       "10  05-11  65.0  73.611111  79.0\n",
       "11  05-12  65.0  73.137931  79.0\n",
       "12  05-13  67.0  73.142857  79.0\n",
       "13  05-14  63.0  73.892857  80.0\n",
       "14  05-15  63.0  73.690909  79.0\n",
       "15  05-16  68.0  74.379310  80.0"
      ]
     },
     "execution_count": 143,
     "metadata": {},
     "output_type": "execute_result"
    }
   ],
   "source": [
    "# Load the previous query results into a Pandas DataFrame and add the `trip_dates` range as the `date` index\n",
    "trip_data=pd.DataFrame(normals,columns=[\"tmin\", \"tmax\",\"tavg\",\"date\"])\n",
    "trip_data\n",
    "trip_data=trip_data[[\"date\",\"tmin\", \"tmax\",\"tavg\"]]\n",
    "trip_data"
   ]
  },
  {
   "cell_type": "code",
   "execution_count": 150,
   "metadata": {},
   "outputs": [
    {
     "data": {
      "text/plain": [
       "Text(0, 0.5, 'Temperature')"
      ]
     },
     "execution_count": 150,
     "metadata": {},
     "output_type": "execute_result"
    },
    {
     "data": {
      "image/png": "[encoded data removed]",
      "text/plain": [
       "<Figure size 720x504 with 1 Axes>"
      ]
     },
     "metadata": {
      "needs_background": "light"
     },
     "output_type": "display_data"
    }
   ],
   "source": [
    "# Plot the daily normals as an area plot with `stacked=False`\n",
    "trip_weather=trip_data.plot.bar(stacked=False, figsize=(10,7),title=\"Hawaii Weather Data Statistics\") \n",
    "trip_weather.set_xticklabels(day_list)\n",
    "trip_weather.set_xlabel(\"Date\") \n",
    "trip_weather.set_ylabel(\"Temperature\")\n"
   ]
  }
 ],
 "metadata": {
  "kernel_info": {
   "name": "python3"
  },
  "kernelspec": {
   "display_name": "Python 3",
   "language": "python",
   "name": "python3"
  },
  "language_info": {
   "codemirror_mode": {
    "name": "ipython",
    "version": 3
   },
   "file_extension": ".py",
   "mimetype": "text/x-python",
   "name": "python",
   "nbconvert_exporter": "python",
   "pygments_lexer": "ipython3",
   "version": "3.6.10"
  },
  "nteract": {
   "version": "0.12.3"
  },
  "varInspector": {
   "cols": {
    "lenName": 16,
    "lenType": 16,
    "lenVar": 40
   },
   "kernels_config": {
    "python": {
     "delete_cmd_postfix": "",
     "delete_cmd_prefix": "del ",
     "library": "var_list.py",
     "varRefreshCmd": "print(var_dic_list())"
    },
    "r": {
     "delete_cmd_postfix": ") ",
     "delete_cmd_prefix": "rm(",
     "library": "var_list.r",
     "varRefreshCmd": "cat(var_dic_list()) "
    }
   },
   "types_to_exclude": [
    "module",
    "function",
    "builtin_function_or_method",
    "instance",
    "_Feature"
   ],
   "window_display": false
  }
 },
 "nbformat": 4,
 "nbformat_minor": 2
}
